{
 "cells": [
  {
   "attachments": {},
   "cell_type": "markdown",
   "metadata": {},
   "source": [
    "# Classification of Handwritten Digits from the MNIST Database"
   ]
  },
  {
   "attachments": {},
   "cell_type": "markdown",
   "metadata": {},
   "source": [
    "## Gaussian Discriminant Analysis\n",
    "\n",
    "We assume each class of digit is distributed according to some Multivariate Gaussian whose mean and covariance we calculate (using the sample mean and sample covariance of each digit).\n",
    "\n",
    "To classify a digit then, we choose the class such that the probability that the digit belongs to the class is maximum. We calculate this probability using Baye's Theorem ( $P(y | x) = \\frac{P(x | y)P(y)}{P(x)}$ ). This is an example of a generative learning model.\n",
    "\n",
    "However, while calculating the sample covariance, it will come out to be singular or almost singular, as there are a large number of principal components with eigenvalues close to 0 (or 0). Therefore, we must reduce the dimensionality of the data by projecting it onto the space spanned by the first few principal components."
   ]
  },
  {
   "cell_type": "code",
   "execution_count": 126,
   "metadata": {},
   "outputs": [
    {
     "name": "stdout",
     "output_type": "stream",
     "text": [
      "Accuracy: 95.59%\n"
     ]
    }
   ],
   "source": [
    "import tensorflow as tf\n",
    "import numpy as np\n",
    "import matplotlib.pyplot as plt\n",
    "\n",
    "NUM_PRINC = 150 # Number of Principal Components (our hyperparameter)\n",
    "\n",
    "(x_train, y_train), (x_test, y_test) = tf.keras.datasets.mnist.load_data()\n",
    "\n",
    "x_train_r = x_train.reshape(x_train.shape[0], x_train.shape[1]*x_train.shape[2])\n",
    "\n",
    "\n",
    "means = np.zeros((10, x_train_r.shape[1]))\n",
    "counts = np.zeros(10)\n",
    "covariances = np.zeros((10, x_train_r.shape[1], x_train_r.shape[1]))\n",
    "\n",
    "for i in range(x_train_r.shape[0]):\n",
    "    means[y_train[i]] = np.add(means[y_train[i]], x_train_r[i])\n",
    "    counts[y_train[i]] += 1\n",
    "\n",
    "for i in range(10):\n",
    "    means[i] = means[i]/counts[i]\n",
    "\n",
    "for i in range(x_train_r.shape[0]):\n",
    "    v = np.subtract(x_train_r[i], means[y_train[i]]).reshape((x_train_r.shape[1], 1))\n",
    "    v = np.matmul(v, np.transpose(v))\n",
    "    covariances[y_train[i]] = np.add(covariances[y_train[i]], v)\n",
    "\n",
    "princ_comps = np.zeros((10, NUM_PRINC, x_train_r.shape[1]))\n",
    "eigen_vals = np.zeros((10, NUM_PRINC))\n",
    "\n",
    "\n",
    "for i in range(10):\n",
    "    covariances[i] = covariances[i]/counts[i]\n",
    "    x, y = np.linalg.eigh(covariances[i])\n",
    "    eigen_vals[i] = x[x.size - NUM_PRINC:][::-1]\n",
    "    for j in range(NUM_PRINC):\n",
    "        princ_comps[i][j] = y[: , y.shape[1] - j - 1]\n",
    "\n",
    "def projection(num, vector):\n",
    "    return np.array([np.dot(x, vector) for x in princ_comps[num]])\n",
    "\n",
    "log_determinants = np.zeros(10)\n",
    "proj_means = np.zeros((10, NUM_PRINC))\n",
    "\n",
    "for i in range(10):\n",
    "    log_determinants[i] = np.sum(np.log(eigen_vals[i]))\n",
    "    proj_means[i] = projection(i, means[i])\n",
    "\n",
    "def neg_log_prob(num, vector):\n",
    "    wrt_mean = np.subtract(projection(num, vector), proj_means[num])\n",
    "    return log_determinants[num] + np.sum([(wrt_mean[i] ** 2)/eigen_vals[num][i] for i in range(NUM_PRINC)]) + np.log(x_train_r.shape[0]/counts[num])\n",
    "\n",
    "def prediction(digit):\n",
    "    digit = digit.reshape(x_train_r.shape[1])\n",
    "    return np.argmin(np.array([neg_log_prob(i, digit) for i in range(10)]))\n",
    "\n",
    "num_occ = 0\n",
    "for i in range(x_test.shape[0]):\n",
    "    if prediction(x_test[i]) == y_test[i]:\n",
    "        num_occ += 1\n",
    "\n",
    "print(f'Accuracy: {num_occ*100/x_test.shape[0]}%')"
   ]
  },
  {
   "cell_type": "code",
   "execution_count": 128,
   "metadata": {},
   "outputs": [
    {
     "name": "stdout",
     "output_type": "stream",
     "text": [
      "Predicted: 8\n",
      "Actual: 8\n"
     ]
    },
    {
     "data": {
      "image/png": "[encoded data removed]",
      "text/plain": [
       "<Figure size 640x480 with 1 Axes>"
      ]
     },
     "metadata": {},
     "output_type": "display_data"
    }
   ],
   "source": [
    "i = np.random.randint(0, x_test.shape[0])\n",
    "plt.imshow(x_test[i])\n",
    "print(f'Predicted: {prediction(x_test[i])}')\n",
    "print(f'Actual: {y_test[i]}')"
   ]
  },
  {
   "attachments": {},
   "cell_type": "markdown",
   "metadata": {},
   "source": [
    "### Hyperparameter Tuning\n",
    "The hyperparameter here is the number of principal components considered. We choose the number that maximizes the accuracy on testing.\n",
    "| Number of Principal Components     | Accuracy         |\n",
    "| ---------------------------------- | -----------------|\n",
    "| 1                                  | 4.95%            |\n",
    "| 80                                 | 94.24%           |\n",
    "| 150                                | 95.59% (highest) |\n",
    "| 240                                | 94.78%           |\n",
    "| 320                                | 93.72%           |\n",
    "| 400                                | 91.45%           |\n",
    "| 480                                | 87.61%           |\n",
    "| 560                                | 65.83%           |\n",
    "| 640                                | 9.8%             |\n",
    "| 720                                | 9.8%             |\n",
    "| 784                                | 9.8%             |\n"
   ]
  },
  {
   "attachments": {},
   "cell_type": "markdown",
   "metadata": {},
   "source": [
    "# Using Classwise Logistic Regression\n",
    "\n",
    "Here we perform logistic regression on each class of digit. For a given digit, then we choose the class with maximum (log) likelihood that the digit belongs to that class. We use stochastic gradient descent to get the values of the regression parameters. \n",
    "\n",
    "Note here that these likelihoods are not probabilities that the digit belongs to a particular class (they need not even sum to 1). This is a discriminative algorithm.\n",
    "\n",
    "The naive implementation of this algorithm is unlikely to give a very good result, as for each class the ratio of members of the class to non-members of the class is 1 : 9 (ie, the data is biased). Therefore, we correct for the bias in the data by taking a 1 : 1 ratio of class members and non-class members during gradient descent. Even after this correction, classwise logistic regression will be inferior to softmax algorithm as this is fundamentally a multiclass problem."
   ]
  },
  {
   "cell_type": "code",
   "execution_count": 2,
   "metadata": {},
   "outputs": [
    {
     "name": "stderr",
     "output_type": "stream",
     "text": [
      "/tmp/ipykernel_7009/3849353442.py:15: RuntimeWarning: overflow encountered in exp\n",
      "  return 1/(1 + np.exp(-np.dot(params[digit], vector)))\n"
     ]
    },
    {
     "name": "stdout",
     "output_type": "stream",
     "text": [
      "Accuracy: 84.69%\n"
     ]
    }
   ],
   "source": [
    "import tensorflow as tf\n",
    "import numpy as np\n",
    "import matplotlib.pyplot as plt\n",
    "\n",
    "\n",
    "(x_train, y_train), (x_test, y_test) = tf.keras.datasets.mnist.load_data()\n",
    "x_train_r = np.zeros((x_train.shape[0], 1 + x_train.shape[1]*x_train.shape[2]))\n",
    "\n",
    "for i in range(x_train_r.shape[0]):\n",
    "    x_train_r[i] = np.insert(np.reshape(x_train[i], (x_train.shape[1]*x_train.shape[2], )), 0, 1)\n",
    "\n",
    "params = np.zeros((10, x_train_r.shape[1]))\n",
    "\n",
    "def hypothesis(digit, vector):\n",
    "    return 1/(1 + np.exp(-np.dot(params[digit], vector)))\n",
    "\n",
    "# Correct for bias in data\n",
    "num_to_list = {}\n",
    "for i in range(10):\n",
    "    num_to_list[i] = []\n",
    "\n",
    "for i in range(x_train_r.shape[0]):\n",
    "    num_to_list[y_train[i]].append(i)\n",
    "\n",
    "for i in range(10):\n",
    "    num_to_list[i] = np.array(num_to_list[i])\n",
    "\n",
    "# Our hyperparameters\n",
    "NUM_ITER = 6000\n",
    "LEARN_RATE = 1e-2\n",
    "BATCH_SIZE = 360\n",
    "\n",
    "def grad_descent(digit, iterations = NUM_ITER, learning_rate = LEARN_RATE):\n",
    "    for _ in range(iterations):\n",
    "        sum = np.zeros(x_train_r.shape[1])\n",
    "        batch = np.concatenate(tuple([np.random.choice(num_to_list[p], int(BATCH_SIZE/2)) if p == digit else np.random.choice(num_to_list[p], int(BATCH_SIZE/18)) for p in range(10)]))\n",
    "\n",
    "        for i in batch:\n",
    "            if y_train[i] == digit:\n",
    "                sum += (1 - hypothesis(digit, x_train_r[i]))*x_train_r[i]\n",
    "            else:\n",
    "                sum -= hypothesis(digit, x_train_r[i])*x_train_r[i]\n",
    "        params[digit] += learning_rate*sum\n",
    "\n",
    "\n",
    "for i in range(10):\n",
    "    grad_descent(i)\n",
    "\n",
    "def prediction(digit):\n",
    "    r_dig = np.insert(np.reshape(digit, (x_train.shape[1]*x_train.shape[2], )), 0, 1)\n",
    "    return np.argmax([hypothesis(i, r_dig) for i in range(10)])\n",
    "\n",
    "num_occ = 0\n",
    "for i in range(x_test.shape[0]):\n",
    "    if prediction(x_test[i]) == y_test[i]:\n",
    "        num_occ += 1\n",
    "\n",
    "print(f'Accuracy: {num_occ*100/x_test.shape[0]}%')"
   ]
  },
  {
   "cell_type": "code",
   "execution_count": 7,
   "metadata": {},
   "outputs": [
    {
     "name": "stdout",
     "output_type": "stream",
     "text": [
      "Predicted: 4\n",
      "Actual: 4\n"
     ]
    },
    {
     "name": "stderr",
     "output_type": "stream",
     "text": [
      "/tmp/ipykernel_7009/3849353442.py:15: RuntimeWarning: overflow encountered in exp\n",
      "  return 1/(1 + np.exp(-np.dot(params[digit], vector)))\n"
     ]
    },
    {
     "data": {
      "image/png": "[encoded data removed]",
      "text/plain": [
       "<Figure size 640x480 with 1 Axes>"
      ]
     },
     "metadata": {},
     "output_type": "display_data"
    }
   ],
   "source": [
    "i = np.random.randint(0, x_test.shape[0])\n",
    "plt.imshow(x_test[i])\n",
    "print(f'Predicted: {prediction(x_test[i])}')\n",
    "print(f'Actual: {y_test[i]}')"
   ]
  },
  {
   "attachments": {},
   "cell_type": "markdown",
   "metadata": {},
   "source": [
    "With 6000 iterations of gradient descent, a learning rate of 0.01 and a minibatch size of 180, we get an accuracy of 84.69%."
   ]
  },
  {
   "attachments": {},
   "cell_type": "markdown",
   "metadata": {},
   "source": [
    "## Using Softmax Regression\n",
    "\n",
    "This is more appropriate for multiclass classification than plain logistic regression. Here the probabilities of a digit belonging to a class are drawn from a multinomial distribution, on which we perform maximum likelihood estimation via stochastic gradient descent. \n",
    "\n",
    "This is also a discriminative model."
   ]
  },
  {
   "cell_type": "code",
   "execution_count": 33,
   "metadata": {},
   "outputs": [
    {
     "name": "stderr",
     "output_type": "stream",
     "text": [
      "/tmp/ipykernel_7009/1786535468.py:23: RuntimeWarning: overflow encountered in exp\n",
      "  sum = np.exp(-arr[i])\n",
      "/tmp/ipykernel_7009/1786535468.py:25: RuntimeWarning: overflow encountered in exp\n",
      "  sum += np.exp(arr[j] - arr[i])\n"
     ]
    }
   ],
   "source": [
    "import tensorflow as tf\n",
    "import numpy as np\n",
    "import matplotlib.pyplot as plt\n",
    "\n",
    "(x_train, y_train), (x_test, y_test) = tf.keras.datasets.mnist.load_data()\n",
    "x_train_r = np.zeros((x_train.shape[0], 1 + x_train.shape[1]*x_train.shape[2]))\n",
    "\n",
    "for i in range(x_train_r.shape[0]):\n",
    "    x_train_r[i] = np.insert(np.reshape(x_train[i], (x_train.shape[1]*x_train.shape[2], )), 0, 1)\n",
    "\n",
    "params = np.zeros((x_train_r.shape[1], 9))\n",
    "\n",
    "def sstat(digit):\n",
    "    arr = np.zeros(9)\n",
    "    if digit < 9:\n",
    "        arr[digit] = 1\n",
    "    return arr\n",
    "\n",
    "def hypothesis(vector):\n",
    "    arr = np.matmul(np.transpose(params), vector)\n",
    "    narr = np.zeros(9)\n",
    "    for i in range(9):\n",
    "        sum = np.exp(-arr[i])\n",
    "        for j in range(9):\n",
    "            sum += np.exp(arr[j] - arr[i])\n",
    "        narr[i] = 1/sum\n",
    "    return narr\n",
    "\n",
    "# Our hyperparameters for gradient descent\n",
    "NUM_ITER = 10000\n",
    "LEARN_RATE = 1e-2\n",
    "BATCH_SIZE = x_train.shape[0]\n",
    "\n",
    "for _ in range(NUM_ITER):\n",
    "    sum = np.zeros((x_train_r.shape[1], 9))\n",
    "    batch = np.random.choice(range(x_train_r.shape[0]), BATCH_SIZE)\n",
    "    for i in batch:\n",
    "        sum += np.outer(x_train_r[i], sstat(y_train[i]) - hypothesis(x_train_r[i]))\n",
    "    params += LEARN_RATE*sum\n",
    "\n",
    "def prediction(img):\n",
    "    dig = np.insert(img.reshape(x_train.shape[1]*x_train.shape[2]), 0, 1)\n",
    "    hyp = hypothesis(dig)\n",
    "    hyp = np.append(hyp, 1 - np.sum(hyp))\n",
    "    return np.argmax(hyp)\n",
    "\n",
    "num_occ = 0\n",
    "for i in range(x_test.shape[0]):\n",
    "    if prediction(x_test[i]) == y_test[i]:\n",
    "        num_occ += 1\n",
    "\n",
    "print(f'Accuracy: {num_occ*100/x_test.shape[0]}%')"
   ]
  },
  {
   "cell_type": "code",
   "execution_count": 31,
   "metadata": {},
   "outputs": [
    {
     "name": "stdout",
     "output_type": "stream",
     "text": [
      "Predicted: 7\n",
      "Actual: 7\n"
     ]
    },
    {
     "name": "stderr",
     "output_type": "stream",
     "text": [
      "/tmp/ipykernel_7009/3308815789.py:23: RuntimeWarning: overflow encountered in exp\n",
      "  sum = np.exp(-arr[i])\n",
      "/tmp/ipykernel_7009/3308815789.py:25: RuntimeWarning: overflow encountered in exp\n",
      "  sum += np.exp(arr[j] - arr[i])\n"
     ]
    },
    {
     "data": {
      "image/png": "[encoded data removed]",
      "text/plain": [
       "<Figure size 640x480 with 1 Axes>"
      ]
     },
     "metadata": {},
     "output_type": "display_data"
    }
   ],
   "source": [
    "i = np.random.randint(0, x_test.shape[0])\n",
    "plt.imshow(x_test[i])\n",
    "print(f'Predicted: {prediction(x_test[i])}')\n",
    "print(f'Actual: {y_test[i]}')"
   ]
  },
  {
   "attachments": {},
   "cell_type": "markdown",
   "metadata": {},
   "source": [
    "With 8000 iterations of gradient descent, a learning rate of 0.01 and a minibatch size of 500, we get an accuracy of 90.93%."
   ]
  }
 ],
 "metadata": {
  "kernelspec": {
   "display_name": "Python 3",
   "language": "python",
   "name": "python3"
  },
  "language_info": {
   "codemirror_mode": {
    "name": "ipython",
    "version": 3
   },
   "file_extension": ".py",
   "mimetype": "text/x-python",
   "name": "python",
   "nbconvert_exporter": "python",
   "pygments_lexer": "ipython3",
   "version": "3.8.10"
  },
  "orig_nbformat": 4,
  "vscode": {
   "interpreter": {
    "hash": "31f2aee4e71d21fbe5cf8b01ff0e069b9275f58929596ceb00d14d90e3e16cd6"
   }
  }
 },
 "nbformat": 4,
 "nbformat_minor": 2
}
